{
  "nbformat": 4,
  "nbformat_minor": 0,
  "metadata": {
    "colab": {
      "name": "Confusion Matrix",
      "provenance": [],
      "collapsed_sections": []
    },
    "kernelspec": {
      "name": "python3",
      "display_name": "Python 3"
    }
  },
  "cells": [
    {
      "cell_type": "code",
      "metadata": {
        "colab": {
          "base_uri": "https://localhost:8080/"
        },
        "id": "wlCl4YyMDjkd",
        "outputId": "51628815-ab15-4478-ffc4-1255cc041eac"
      },
      "source": [
        "import pandas as pd\n",
        "from google.colab import drive\n",
        "drive.mount('/content/drive')\n",
        "path = \"/content/drive/MyDrive/Dataset/nm4.csv\"\n",
        "path2 = \"/content/drive/MyDrive/Dataset/m4t.csv\"\n",
        "\n",
        "\n",
        "dataframe = pd.read_csv(path)\n",
        "dft = pd.read_csv(path2)\n"
      ],
      "execution_count": 1,
      "outputs": [
        {
          "output_type": "stream",
          "text": [
            "Mounted at /content/drive\n"
          ],
          "name": "stdout"
        }
      ]
    },
    {
      "cell_type": "code",
      "metadata": {
        "id": "iYOgvuB3DljX"
      },
      "source": [
        "from sklearn import tree\n",
        "from sklearn.linear_model import LinearRegression\n",
        "from sklearn.neighbors import KNeighborsClassifier\n",
        "from sklearn import svm\n",
        "from sklearn.linear_model import LinearRegression\n",
        "from sklearn.ensemble import RandomForestClassifier\n",
        "from sklearn.neighbors import KNeighborsClassifier\n",
        "from sklearn.naive_bayes import GaussianNB\n",
        "from sklearn.model_selection import train_test_split\n",
        "\n",
        "k = 1\n",
        "knn_classifier = KNeighborsClassifier(n_neighbors=k)\n",
        "dt_classifier = tree.DecisionTreeClassifier()\n",
        "svc_classifier = svm.SVC()\n",
        "lr_classifier = LinearRegression()\n",
        "ram_dt_classifier = RandomForestClassifier()\n",
        "gnb_classifier = GaussianNB()"
      ],
      "execution_count": 2,
      "outputs": []
    },
    {
      "cell_type": "code",
      "metadata": {
        "colab": {
          "base_uri": "https://localhost:8080/"
        },
        "id": "H2UU0h_BDnez",
        "outputId": "7e6b1bab-0175-49e0-a6db-d53d76025d80"
      },
      "source": [
        "test=dataframe.to_numpy()\n",
        "ob = dft.to_numpy()\n",
        "\n",
        "X = test[:, 0:12] \n",
        "y = test[:, 11]\n",
        "x_train, x_test,y_train, y_test = train_test_split(X, y,test_size=0.2,random_state = 42)\n",
        "print(X.shape)\n",
        "print(y.shape)"
      ],
      "execution_count": 3,
      "outputs": [
        {
          "output_type": "stream",
          "text": [
            "(399, 12)\n",
            "(399,)\n"
          ],
          "name": "stdout"
        }
      ]
    },
    {
      "cell_type": "code",
      "metadata": {
        "id": "G4iT08u7D4Iy"
      },
      "source": [
        "knn_classifier.fit(x_train, y_train)\n",
        "knn_y_pred = knn_classifier.predict(x_train)\n",
        "\n",
        "ram_dt_classifier.fit(x_train, y_train)\n",
        "ran_dt_y_pred = ram_dt_classifier.predict(x_train)\n",
        "\n",
        "gnb_classifier.fit(x_train, y_train)\n",
        "gnb_y_pred = gnb_classifier.predict(x_train)\n",
        "\n",
        "svc_classifier.fit(x_train, y_train)\n",
        "svc_y_pred = svc_classifier.predict(x_train)\n",
        "\n",
        "dt_classifier.fit(x_train, y_train)\n",
        "dt_y_pred = dt_classifier.predict(x_train)"
      ],
      "execution_count": 4,
      "outputs": []
    },
    {
      "cell_type": "code",
      "metadata": {
        "colab": {
          "base_uri": "https://localhost:8080/"
        },
        "id": "yEV0mzZmbrM-",
        "outputId": "da250fb3-c822-4593-cdd3-1859fbd21570"
      },
      "source": [
        "from sklearn.metrics import confusion_matrix\n",
        "print(\"Depression\")\n",
        "print(\"\\t\")\n",
        "print(\"knn\")\n",
        "print(confusion_matrix(knn_y_pred, y_train))\n",
        "print(\"\\t\")\n",
        "print(\"ram\")\n",
        "print(confusion_matrix(ran_dt_y_pred, y_train))\n",
        "print(\"\\t\")\n",
        "print(\"gnb\")\n",
        "print(confusion_matrix(gnb_y_pred, y_train))\n",
        "print(\"\\t\")\n",
        "print(\"svc\")\n",
        "print(confusion_matrix(svc_y_pred, y_train))\n",
        "print(\"\\t\")\n",
        "print(\"dt\")\n",
        "print(confusion_matrix(dt_y_pred, y_train))\n"
      ],
      "execution_count": 5,
      "outputs": [
        {
          "output_type": "stream",
          "text": [
            "Depression\n",
            "\t\n",
            "knn\n",
            "[[296   0]\n",
            " [  0  23]]\n",
            "\t\n",
            "ram\n",
            "[[296   0]\n",
            " [  0  23]]\n",
            "\t\n",
            "gnb\n",
            "[[296   0]\n",
            " [  0  23]]\n",
            "\t\n",
            "svc\n",
            "[[296  14]\n",
            " [  0   9]]\n",
            "\t\n",
            "dt\n",
            "[[296   0]\n",
            " [  0  23]]\n"
          ],
          "name": "stdout"
        }
      ]
    },
    {
      "cell_type": "code",
      "metadata": {
        "id": "mlTsHdpVh8Yz"
      },
      "source": [
        "test=dataframe.to_numpy()\n",
        "ob = dft.to_numpy()\n",
        "\n",
        "X = test[:, 0:13] \n",
        "y = test[:, 12]\n",
        "x_train, x_test,y_train, y_test = train_test_split(X, y,test_size=0.2,random_state = 42)\n"
      ],
      "execution_count": 6,
      "outputs": []
    },
    {
      "cell_type": "code",
      "metadata": {
        "colab": {
          "base_uri": "https://localhost:8080/"
        },
        "id": "J1JmE6ASijoq",
        "outputId": "be14f76b-da6d-414d-a1e4-4087222216c2"
      },
      "source": [
        "from sklearn.metrics import confusion_matrix\n",
        "print(\"Anxiety\")\n",
        "print(\"\\t\")\n",
        "print(\"knn\")\n",
        "print(confusion_matrix(knn_y_pred, y_train))\n",
        "print(\"\\t\")\n",
        "print(\"ram\")\n",
        "print(confusion_matrix(ran_dt_y_pred, y_train))\n",
        "print(\"\\t\")\n",
        "print(\"gnb\")\n",
        "print(confusion_matrix(gnb_y_pred, y_train))\n",
        "print(\"\\t\")\n",
        "print(\"svc\")\n",
        "print(confusion_matrix(svc_y_pred, y_train))\n",
        "print(\"\\t\")\n",
        "print(\"dt\")\n",
        "print(confusion_matrix(dt_y_pred, y_train))\n"
      ],
      "execution_count": 7,
      "outputs": [
        {
          "output_type": "stream",
          "text": [
            "Anxiety\n",
            "\t\n",
            "knn\n",
            "[[285  11]\n",
            " [ 18   5]]\n",
            "\t\n",
            "ram\n",
            "[[285  11]\n",
            " [ 18   5]]\n",
            "\t\n",
            "gnb\n",
            "[[285  11]\n",
            " [ 18   5]]\n",
            "\t\n",
            "svc\n",
            "[[297  13]\n",
            " [  6   3]]\n",
            "\t\n",
            "dt\n",
            "[[285  11]\n",
            " [ 18   5]]\n"
          ],
          "name": "stdout"
        }
      ]
    },
    {
      "cell_type": "code",
      "metadata": {
        "id": "RYz9iHHVimiL"
      },
      "source": [
        "test=dataframe.to_numpy()\n",
        "ob = dft.to_numpy()\n",
        "\n",
        "X = test[:, 0:14] \n",
        "y = test[:, 13]\n",
        "x_train, x_test,y_train, y_test = train_test_split(X, y,test_size=0.2,random_state = 42)"
      ],
      "execution_count": 8,
      "outputs": []
    },
    {
      "cell_type": "code",
      "metadata": {
        "colab": {
          "base_uri": "https://localhost:8080/"
        },
        "id": "LLtzDtn4ipHf",
        "outputId": "4675a78b-0fbc-4388-c561-b0e068697097"
      },
      "source": [
        "from sklearn.metrics import confusion_matrix\n",
        "print(\"Stress\")\n",
        "print(\"\\t\")\n",
        "print(\"knn\")\n",
        "print(confusion_matrix(knn_y_pred, y_train))\n",
        "print(\"\\t\")\n",
        "print(\"ram\")\n",
        "print(confusion_matrix(ran_dt_y_pred, y_train))\n",
        "print(\"\\t\")\n",
        "print(\"gnb\")\n",
        "print(confusion_matrix(gnb_y_pred, y_train))\n",
        "print(\"\\t\")\n",
        "print(\"svc\")\n",
        "print(confusion_matrix(svc_y_pred, y_train))\n",
        "print(\"\\t\")\n",
        "print(\"dt\")\n",
        "print(confusion_matrix(dt_y_pred, y_train))"
      ],
      "execution_count": 9,
      "outputs": [
        {
          "output_type": "stream",
          "text": [
            "Stress\n",
            "\t\n",
            "knn\n",
            "[[279  17]\n",
            " [ 11  12]]\n",
            "\t\n",
            "ram\n",
            "[[279  17]\n",
            " [ 11  12]]\n",
            "\t\n",
            "gnb\n",
            "[[279  17]\n",
            " [ 11  12]]\n",
            "\t\n",
            "svc\n",
            "[[288  22]\n",
            " [  2   7]]\n",
            "\t\n",
            "dt\n",
            "[[279  17]\n",
            " [ 11  12]]\n"
          ],
          "name": "stdout"
        }
      ]
    }
  ]
}