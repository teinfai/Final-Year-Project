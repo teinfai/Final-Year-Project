{
  "nbformat": 4,
  "nbformat_minor": 0,
  "metadata": {
    "colab": {
      "name": "Confusion matrix part 2 and Cross-Validation ",
      "provenance": [],
      "collapsed_sections": []
    },
    "kernelspec": {
      "name": "python3",
      "display_name": "Python 3"
    }
  },
  "cells": [
    {
      "cell_type": "code",
      "metadata": {
        "colab": {
          "base_uri": "https://localhost:8080/"
        },
        "id": "1R8r0swxyRIW",
        "outputId": "301f8a10-a880-4530-fd92-f6955974b7c7"
      },
      "source": [
        "import pandas as pd\n",
        "from google.colab import drive\n",
        "drive.mount('/content/drive')\n",
        "path = \"/content/drive/MyDrive/Dataset/nm4.csv\"\n",
        "path2 = \"/content/drive/MyDrive/Dataset/m4t.csv\"\n",
        "dft = pd.read_csv(path2)\n",
        "dataframe = pd.read_csv(path)"
      ],
      "execution_count": null,
      "outputs": [
        {
          "output_type": "stream",
          "text": [
            "Mounted at /content/drive\n"
          ],
          "name": "stdout"
        }
      ]
    },
    {
      "cell_type": "code",
      "metadata": {
        "colab": {
          "base_uri": "https://localhost:8080/",
          "height": 436
        },
        "id": "RPn1i1ifmoOa",
        "outputId": "15576713-cbac-4bfc-937a-5d42d8fc01aa"
      },
      "source": [
        "dataframe"
      ],
      "execution_count": null,
      "outputs": [
        {
          "output_type": "execute_result",
          "data": {
            "text/html": [
              "<div>\n",
              "<style scoped>\n",
              "    .dataframe tbody tr th:only-of-type {\n",
              "        vertical-align: middle;\n",
              "    }\n",
              "\n",
              "    .dataframe tbody tr th {\n",
              "        vertical-align: top;\n",
              "    }\n",
              "\n",
              "    .dataframe thead th {\n",
              "        text-align: right;\n",
              "    }\n",
              "</style>\n",
              "<table border=\"1\" class=\"dataframe\">\n",
              "  <thead>\n",
              "    <tr style=\"text-align: right;\">\n",
              "      <th></th>\n",
              "      <th>DIAGNOSED_CONDITION</th>\n",
              "      <th>DIABETES_2</th>\n",
              "      <th>HYPERTENSION</th>\n",
              "      <th>HYPERCHOLESTEROLAEMIA</th>\n",
              "      <th>MEDICATION_DIABETES</th>\n",
              "      <th>MEDICATION_HYPERTENSION</th>\n",
              "      <th>MEDICATION_HYPERCHOLESTEROLAEMIA</th>\n",
              "      <th>GLUCOSE_LEVEL</th>\n",
              "      <th>BP_LEVEL</th>\n",
              "      <th>TOTAL_CHOLESTEROL_SCORE</th>\n",
              "      <th>HYPERCHOLESTEROLAEMIA_OCCURS</th>\n",
              "      <th>Depress</th>\n",
              "      <th>Anxiety</th>\n",
              "      <th>Stress</th>\n",
              "    </tr>\n",
              "  </thead>\n",
              "  <tbody>\n",
              "    <tr>\n",
              "      <th>0</th>\n",
              "      <td>1</td>\n",
              "      <td>3</td>\n",
              "      <td>4</td>\n",
              "      <td>4</td>\n",
              "      <td>3</td>\n",
              "      <td>4</td>\n",
              "      <td>4</td>\n",
              "      <td>4</td>\n",
              "      <td>3</td>\n",
              "      <td>4</td>\n",
              "      <td>1</td>\n",
              "      <td>1</td>\n",
              "      <td>0</td>\n",
              "      <td>0</td>\n",
              "    </tr>\n",
              "    <tr>\n",
              "      <th>1</th>\n",
              "      <td>7</td>\n",
              "      <td>2</td>\n",
              "      <td>3</td>\n",
              "      <td>3</td>\n",
              "      <td>2</td>\n",
              "      <td>3</td>\n",
              "      <td>3</td>\n",
              "      <td>4</td>\n",
              "      <td>4</td>\n",
              "      <td>2</td>\n",
              "      <td>1</td>\n",
              "      <td>0</td>\n",
              "      <td>0</td>\n",
              "      <td>0</td>\n",
              "    </tr>\n",
              "    <tr>\n",
              "      <th>2</th>\n",
              "      <td>7</td>\n",
              "      <td>3</td>\n",
              "      <td>3</td>\n",
              "      <td>3</td>\n",
              "      <td>3</td>\n",
              "      <td>3</td>\n",
              "      <td>3</td>\n",
              "      <td>4</td>\n",
              "      <td>4</td>\n",
              "      <td>5</td>\n",
              "      <td>1</td>\n",
              "      <td>0</td>\n",
              "      <td>0</td>\n",
              "      <td>0</td>\n",
              "    </tr>\n",
              "    <tr>\n",
              "      <th>3</th>\n",
              "      <td>1</td>\n",
              "      <td>2</td>\n",
              "      <td>4</td>\n",
              "      <td>4</td>\n",
              "      <td>2</td>\n",
              "      <td>4</td>\n",
              "      <td>4</td>\n",
              "      <td>3</td>\n",
              "      <td>2</td>\n",
              "      <td>4</td>\n",
              "      <td>1</td>\n",
              "      <td>0</td>\n",
              "      <td>0</td>\n",
              "      <td>0</td>\n",
              "    </tr>\n",
              "    <tr>\n",
              "      <th>4</th>\n",
              "      <td>7</td>\n",
              "      <td>2</td>\n",
              "      <td>2</td>\n",
              "      <td>2</td>\n",
              "      <td>2</td>\n",
              "      <td>2</td>\n",
              "      <td>2</td>\n",
              "      <td>5</td>\n",
              "      <td>5</td>\n",
              "      <td>4</td>\n",
              "      <td>1</td>\n",
              "      <td>0</td>\n",
              "      <td>0</td>\n",
              "      <td>1</td>\n",
              "    </tr>\n",
              "    <tr>\n",
              "      <th>...</th>\n",
              "      <td>...</td>\n",
              "      <td>...</td>\n",
              "      <td>...</td>\n",
              "      <td>...</td>\n",
              "      <td>...</td>\n",
              "      <td>...</td>\n",
              "      <td>...</td>\n",
              "      <td>...</td>\n",
              "      <td>...</td>\n",
              "      <td>...</td>\n",
              "      <td>...</td>\n",
              "      <td>...</td>\n",
              "      <td>...</td>\n",
              "      <td>...</td>\n",
              "    </tr>\n",
              "    <tr>\n",
              "      <th>394</th>\n",
              "      <td>6</td>\n",
              "      <td>4</td>\n",
              "      <td>2</td>\n",
              "      <td>2</td>\n",
              "      <td>4</td>\n",
              "      <td>1</td>\n",
              "      <td>2</td>\n",
              "      <td>3</td>\n",
              "      <td>2</td>\n",
              "      <td>3</td>\n",
              "      <td>2</td>\n",
              "      <td>0</td>\n",
              "      <td>0</td>\n",
              "      <td>0</td>\n",
              "    </tr>\n",
              "    <tr>\n",
              "      <th>395</th>\n",
              "      <td>7</td>\n",
              "      <td>3</td>\n",
              "      <td>3</td>\n",
              "      <td>3</td>\n",
              "      <td>3</td>\n",
              "      <td>3</td>\n",
              "      <td>3</td>\n",
              "      <td>4</td>\n",
              "      <td>2</td>\n",
              "      <td>4</td>\n",
              "      <td>2</td>\n",
              "      <td>0</td>\n",
              "      <td>0</td>\n",
              "      <td>1</td>\n",
              "    </tr>\n",
              "    <tr>\n",
              "      <th>396</th>\n",
              "      <td>3</td>\n",
              "      <td>2</td>\n",
              "      <td>3</td>\n",
              "      <td>2</td>\n",
              "      <td>2</td>\n",
              "      <td>3</td>\n",
              "      <td>3</td>\n",
              "      <td>2</td>\n",
              "      <td>2</td>\n",
              "      <td>2</td>\n",
              "      <td>2</td>\n",
              "      <td>0</td>\n",
              "      <td>0</td>\n",
              "      <td>0</td>\n",
              "    </tr>\n",
              "    <tr>\n",
              "      <th>397</th>\n",
              "      <td>2</td>\n",
              "      <td>4</td>\n",
              "      <td>3</td>\n",
              "      <td>4</td>\n",
              "      <td>4</td>\n",
              "      <td>3</td>\n",
              "      <td>4</td>\n",
              "      <td>4</td>\n",
              "      <td>4</td>\n",
              "      <td>4</td>\n",
              "      <td>2</td>\n",
              "      <td>0</td>\n",
              "      <td>0</td>\n",
              "      <td>0</td>\n",
              "    </tr>\n",
              "    <tr>\n",
              "      <th>398</th>\n",
              "      <td>2</td>\n",
              "      <td>4</td>\n",
              "      <td>3</td>\n",
              "      <td>4</td>\n",
              "      <td>4</td>\n",
              "      <td>2</td>\n",
              "      <td>4</td>\n",
              "      <td>2</td>\n",
              "      <td>2</td>\n",
              "      <td>2</td>\n",
              "      <td>2</td>\n",
              "      <td>0</td>\n",
              "      <td>0</td>\n",
              "      <td>0</td>\n",
              "    </tr>\n",
              "  </tbody>\n",
              "</table>\n",
              "<p>399 rows × 14 columns</p>\n",
              "</div>"
            ],
            "text/plain": [
              "     DIAGNOSED_CONDITION  DIABETES_2  HYPERTENSION  ...  Depress  Anxiety  Stress\n",
              "0                      1           3             4  ...        1        0       0\n",
              "1                      7           2             3  ...        0        0       0\n",
              "2                      7           3             3  ...        0        0       0\n",
              "3                      1           2             4  ...        0        0       0\n",
              "4                      7           2             2  ...        0        0       1\n",
              "..                   ...         ...           ...  ...      ...      ...     ...\n",
              "394                    6           4             2  ...        0        0       0\n",
              "395                    7           3             3  ...        0        0       1\n",
              "396                    3           2             3  ...        0        0       0\n",
              "397                    2           4             3  ...        0        0       0\n",
              "398                    2           4             3  ...        0        0       0\n",
              "\n",
              "[399 rows x 14 columns]"
            ]
          },
          "metadata": {
            "tags": []
          },
          "execution_count": 2
        }
      ]
    },
    {
      "cell_type": "code",
      "metadata": {
        "id": "iaRzA3IRyTnt"
      },
      "source": [
        "from sklearn.model_selection import train_test_split\n",
        "from sklearn.svm import LinearSVC\n",
        "from sklearn.metrics import classification_report\n",
        "from sklearn.metrics import confusion_matrix\n",
        "from sklearn import svm\n",
        "from time import time\n",
        "from sklearn import metrics\n",
        "import matplotlib.pyplot as plt\n",
        "import numpy as np"
      ],
      "execution_count": null,
      "outputs": []
    },
    {
      "cell_type": "code",
      "metadata": {
        "colab": {
          "base_uri": "https://localhost:8080/"
        },
        "id": "39HTytEqyUug",
        "outputId": "dd67b4b5-e3bc-4d3d-c069-4fef1ec22b7e"
      },
      "source": [
        "test=dataframe.to_numpy()\n",
        "ob = dft.to_numpy()\n",
        "X = test[:, 0:11] \n",
        "y = test[:, 12]\n",
        "x_train, x_test,y_train, y_test = train_test_split(X, y,test_size=0.2,random_state = 42)\n",
        "print(X.shape)\n",
        "print(y.shape)"
      ],
      "execution_count": null,
      "outputs": [
        {
          "output_type": "stream",
          "text": [
            "(399, 11)\n",
            "(399,)\n"
          ],
          "name": "stdout"
        }
      ]
    },
    {
      "cell_type": "code",
      "metadata": {
        "colab": {
          "base_uri": "https://localhost:8080/"
        },
        "id": "2kHWLUrRs9rE",
        "outputId": "4b985d7a-a612-4ad7-f62b-cbdbaecb6002"
      },
      "source": [
        "y_test"
      ],
      "execution_count": null,
      "outputs": [
        {
          "output_type": "execute_result",
          "data": {
            "text/plain": [
              "array([0, 1, 0, 0, 0, 0, 0, 0, 0, 0, 0, 0, 0, 0, 1, 0, 0, 0, 0, 0, 0, 0,\n",
              "       0, 0, 0, 0, 0, 0, 0, 0, 0, 0, 0, 0, 1, 0, 0, 0, 0, 0, 0, 0, 0, 0,\n",
              "       0, 0, 0, 0, 0, 0, 0, 0, 0, 0, 0, 0, 0, 0, 0, 0, 1, 0, 0, 0, 0, 0,\n",
              "       0, 1, 0, 0, 0, 0, 0, 0, 1, 0, 0, 0, 0, 0])"
            ]
          },
          "metadata": {
            "tags": []
          },
          "execution_count": 27
        }
      ]
    },
    {
      "cell_type": "code",
      "metadata": {
        "id": "RAMCsGttpZQT"
      },
      "source": [
        "#print(X)\n",
        "#print(ob)"
      ],
      "execution_count": null,
      "outputs": []
    },
    {
      "cell_type": "code",
      "metadata": {
        "id": "w4SrkEwfRVLD"
      },
      "source": [
        "from sklearn import tree\n",
        "from sklearn.linear_model import LinearRegression\n",
        "from sklearn.neighbors import KNeighborsClassifier\n",
        "from sklearn import svm\n",
        "from sklearn.linear_model import LinearRegression\n",
        "from sklearn.ensemble import RandomForestClassifier\n",
        "from sklearn.neighbors import KNeighborsClassifier\n",
        "from sklearn.naive_bayes import GaussianNB\n",
        "\n",
        "\n",
        "k = 1\n",
        "knn_classifier = KNeighborsClassifier(n_neighbors=k)\n",
        "dt_classifier = tree.DecisionTreeClassifier()\n",
        "svc_classifier = svm.SVC()\n",
        "lr_classifier = LinearRegression()\n",
        "ram_dt_classifier = RandomForestClassifier()\n",
        "gnb_classifier = GaussianNB()"
      ],
      "execution_count": null,
      "outputs": []
    },
    {
      "cell_type": "code",
      "metadata": {
        "colab": {
          "base_uri": "https://localhost:8080/"
        },
        "id": "UVd2sf-USUCA",
        "outputId": "c3681164-dfe0-4f7d-8fed-21b4eb777aee"
      },
      "source": [
        "clf = (knn_classifier, ram_dt_classifier, lr_classifier, svc_classifier, dt_classifier, gnb_classifier)\n",
        "\n",
        "for clfs in clf:\n",
        "  clfs.fit(x_train, y_train),\n",
        "  newx = clfs.predict(ob),\n",
        "  print(newx)\n",
        "\n",
        "# Results below show differrent classifier prediction"
      ],
      "execution_count": null,
      "outputs": [
        {
          "output_type": "stream",
          "text": [
            "(array([0, 0, 0, 0, 0, 0, 0, 0, 0, 0, 0, 0, 0, 0, 0, 0, 0, 0, 0, 0, 0, 0,\n",
            "       0, 0, 0, 0, 0, 0, 0, 0, 1, 0, 0, 0, 0, 0, 0, 0, 0, 0, 0, 0, 0, 0,\n",
            "       0, 0, 0, 0, 0, 0, 0, 0, 0, 0, 0, 0, 1, 1, 1, 0, 0, 0, 0, 0, 0, 0,\n",
            "       0, 0, 0, 0, 0]),)\n",
            "(array([0, 0, 0, 0, 0, 0, 0, 0, 0, 0, 0, 0, 0, 0, 0, 0, 0, 0, 0, 0, 0, 0,\n",
            "       0, 0, 0, 0, 0, 0, 0, 0, 1, 0, 0, 0, 0, 0, 0, 0, 0, 0, 0, 0, 0, 0,\n",
            "       0, 0, 0, 0, 0, 0, 0, 0, 0, 0, 0, 0, 0, 0, 0, 0, 0, 0, 0, 0, 0, 0,\n",
            "       0, 0, 0, 0, 0]),)\n",
            "(array([0.07001243, 0.31327878, 0.08042388, 0.078331  , 0.03940675,\n",
            "       0.07348424, 0.08024226, 0.07157682, 0.09275892, 0.07069001,\n",
            "       0.1075793 , 0.0560439 , 0.06555642, 0.09012139, 0.06683127,\n",
            "       0.078331  , 0.18027714, 0.078331  , 0.1075793 , 0.078331  ,\n",
            "       0.0560439 , 0.09012139, 0.0487574 , 0.06537732, 0.06007326,\n",
            "       0.09012139, 0.06537732, 0.05038435, 0.078331  , 0.04737846,\n",
            "       0.08965547, 0.05706736, 0.13297749, 0.07127067, 0.13022824,\n",
            "       0.06879949, 0.09666885, 0.04737846, 0.08874245, 0.1075793 ,\n",
            "       0.06008187, 0.078331  , 0.09012139, 0.09012139, 0.05260752,\n",
            "       0.1075793 , 0.0487574 , 0.04490728, 0.05530486, 0.1075793 ,\n",
            "       0.09666885, 0.0487574 , 0.078331  , 0.06537732, 0.0487574 ,\n",
            "       0.07127067, 0.08893914, 0.08893914, 0.06782042, 0.0639703 ,\n",
            "       0.07940763, 0.04207439, 0.08181143, 0.0560439 , 0.04490728,\n",
            "       0.0487574 , 0.0560439 , 0.04773393, 0.07266382, 0.07266382,\n",
            "       0.0560439 ]),)\n",
            "(array([0, 0, 0, 0, 0, 0, 0, 0, 0, 0, 0, 0, 0, 0, 0, 0, 0, 0, 0, 0, 0, 0,\n",
            "       0, 0, 0, 0, 0, 0, 0, 0, 0, 0, 0, 0, 0, 0, 0, 0, 0, 0, 0, 0, 0, 0,\n",
            "       0, 0, 0, 0, 0, 0, 0, 0, 0, 0, 0, 0, 0, 0, 0, 0, 0, 0, 0, 0, 0, 0,\n",
            "       0, 0, 0, 0, 0]),)\n",
            "(array([0, 0, 0, 0, 0, 0, 0, 0, 0, 0, 0, 0, 0, 0, 0, 0, 0, 0, 0, 0, 0, 0,\n",
            "       0, 0, 0, 0, 0, 0, 0, 0, 1, 0, 0, 0, 0, 0, 0, 0, 0, 0, 0, 0, 0, 0,\n",
            "       0, 0, 0, 0, 0, 0, 0, 0, 0, 0, 0, 0, 0, 0, 0, 0, 0, 0, 0, 0, 0, 0,\n",
            "       0, 0, 0, 0, 0]),)\n",
            "(array([0, 0, 0, 0, 0, 0, 0, 0, 0, 0, 0, 0, 0, 0, 0, 0, 1, 0, 0, 0, 0, 0,\n",
            "       0, 0, 0, 0, 0, 0, 0, 0, 0, 0, 1, 0, 1, 0, 0, 0, 0, 0, 0, 0, 0, 0,\n",
            "       0, 0, 0, 0, 0, 0, 0, 0, 0, 0, 0, 0, 0, 0, 0, 0, 0, 0, 0, 0, 0, 0,\n",
            "       0, 0, 0, 0, 0]),)\n"
          ],
          "name": "stdout"
        }
      ]
    },
    {
      "cell_type": "code",
      "metadata": {
        "colab": {
          "base_uri": "https://localhost:8080/"
        },
        "id": "rEHI45XIH9Uf",
        "outputId": "d1473198-c557-4277-8d51-5236b117c7bd"
      },
      "source": [
        "from sklearn.model_selection import cross_val_score\n",
        "from sklearn import metrics\n",
        "\n",
        "f=10\n",
        "scores = cross_val_score(svc_classifier, X, y, cv=f)\n",
        "\n",
        "percentage = \"{:.1%}\".format(scores.mean())\n",
        "\n",
        "\n",
        "print(f'Cross validation result of support vector machine by using {f} fold, scores: {scores}')\n",
        "# 0.2 = 0.xx, 0.3 = 0.xxx decimal places\n",
        "print(\"Accuracy: %0.2f (+/- %0.2f)\" % (scores.mean(), scores.std() * 2))\n",
        "print(\"Accuracy: \" + percentage)"
      ],
      "execution_count": null,
      "outputs": [
        {
          "output_type": "stream",
          "text": [
            "Cross validation result of support vector machine by using 10 fold, scores: [0.95       0.95       0.95       0.95       0.95       0.95\n",
            " 0.95       0.925      0.925      0.94871795]\n",
            "Accuracy: 0.94 (+/- 0.02)\n",
            "Accuracy: 94.5%\n"
          ],
          "name": "stdout"
        }
      ]
    },
    {
      "cell_type": "code",
      "metadata": {
        "colab": {
          "base_uri": "https://localhost:8080/"
        },
        "id": "c1ZxF2t_GPZr",
        "outputId": "c7875f71-6665-40eb-8c15-904ccceca649"
      },
      "source": [
        "from sklearn.model_selection import cross_val_score\n",
        "from sklearn import metrics\n",
        "\n",
        "f=10\n",
        "percentage = \"{:.1%}\".format(scores.mean())\n",
        "\n",
        "scores = cross_val_score(knn_classifier, X, y, cv=f)\n",
        "print(f'Cross validation result of KNN by using {f} fold, scores: {scores}')\n",
        "# 0.2 = 0.xx, 0.3 = 0.xxx decimal places\n",
        "print(\"Accuracy: %0.2f (+/- %0.2f)\" % (scores.mean(), scores.std() * 2))\n",
        "print(\"Accuracy: \" + percentage)"
      ],
      "execution_count": null,
      "outputs": [
        {
          "output_type": "stream",
          "text": [
            "Cross validation result of KNN by using 10 fold, scores: [0.925      0.975      0.925      0.825      0.85       0.925\n",
            " 0.9        0.925      0.875      0.74358974]\n",
            "Accuracy: 0.89 (+/- 0.13)\n",
            "Accuracy: 94.5%\n"
          ],
          "name": "stdout"
        }
      ]
    },
    {
      "cell_type": "code",
      "metadata": {
        "colab": {
          "base_uri": "https://localhost:8080/"
        },
        "id": "9KxIcIpeH7Cl",
        "outputId": "848883a5-88ab-4acc-f755-9cf686868e11"
      },
      "source": [
        "from sklearn.model_selection import cross_val_score\n",
        "from sklearn import metrics\n",
        "\n",
        "f=10\n",
        "percentage = \"{:.1%}\".format(scores.mean())\n",
        "\n",
        "scores = cross_val_score(ram_dt_classifier, X, y, cv=f)\n",
        "print(f'Cross validation result of random forest by using {f} fold, scores: {scores}')\n",
        "# 0.2 = 0.xx, 0.3 = 0.xxx decimal places\n",
        "print(\"Accuracy: %0.2f (+/- %0.2f)\" % (scores.mean(), scores.std() * 2))\n",
        "print(\"Accuracy: \" + percentage)"
      ],
      "execution_count": null,
      "outputs": [
        {
          "output_type": "stream",
          "text": [
            "Cross validation result of random forest by using 10 fold, scores: [0.95       0.95       0.95       0.875      0.9        0.925\n",
            " 0.925      0.925      0.9        0.94871795]\n",
            "Accuracy: 0.92 (+/- 0.05)\n",
            "Accuracy: 88.7%\n"
          ],
          "name": "stdout"
        }
      ]
    },
    {
      "cell_type": "code",
      "metadata": {
        "colab": {
          "base_uri": "https://localhost:8080/"
        },
        "id": "aVmusTXMH9aF",
        "outputId": "08fc8021-fb1e-4309-d90f-b7643ac1e0e6"
      },
      "source": [
        "from sklearn.model_selection import cross_val_score\n",
        "from sklearn import metrics\n",
        "\n",
        "f=10\n",
        "percentage = \"{:.1%}\".format(scores.mean())\n",
        "\n",
        "scores = cross_val_score(dt_classifier, X, y, cv=f)\n",
        "print(f'Cross validation result of decision forest by using {f} fold, scores: {scores}')\n",
        "# 0.2 = 0.xx, 0.3 = 0.xxx decimal places\n",
        "print(\"Accuracy: %0.2f (+/- %0.2f)\" % (scores.mean(), scores.std() * 2))\n",
        "print(\"Accuracy: \" + percentage)"
      ],
      "execution_count": null,
      "outputs": [
        {
          "output_type": "stream",
          "text": [
            "Cross validation result of decision forest by using 10 fold, scores: [0.925      0.95       0.95       0.85       0.85       0.925\n",
            " 0.925      0.925      0.825      0.94871795]\n",
            "Accuracy: 0.91 (+/- 0.09)\n",
            "Accuracy: 92.5%\n"
          ],
          "name": "stdout"
        }
      ]
    },
    {
      "cell_type": "code",
      "metadata": {
        "colab": {
          "base_uri": "https://localhost:8080/"
        },
        "id": "Vqt17w4vdP98",
        "outputId": "cfbf93ec-ea9c-44b4-fa2a-042062f7516b"
      },
      "source": [
        "from sklearn.model_selection import cross_val_score\n",
        "from sklearn import metrics\n",
        "\n",
        "f=10\n",
        "percentage = \"{:.1%}\".format(scores.mean())\n",
        "\n",
        "scores = cross_val_score(gnb_classifier, X, y, cv=f)\n",
        "print(f'Cross validation result of Naives Bayes by using {f} fold, scores: {scores}')\n",
        "# 0.2 = 0.xx, 0.3 = 0.xxx decimal places\n",
        "print(\"Accuracy: %0.2f (+/- %0.2f)\" % (scores.mean(), scores.std() * 2))\n",
        "print(\"Accuracy: \" + percentage)"
      ],
      "execution_count": null,
      "outputs": [
        {
          "output_type": "stream",
          "text": [
            "Cross validation result of Naives Bayes by using 10 fold, scores: [0.95       0.925      0.95       0.825      0.8        0.95\n",
            " 0.95       0.925      0.925      0.94871795]\n",
            "Accuracy: 0.91 (+/- 0.11)\n",
            "Accuracy: 90.7%\n"
          ],
          "name": "stdout"
        }
      ]
    },
    {
      "cell_type": "code",
      "metadata": {
        "colab": {
          "base_uri": "https://localhost:8080/",
          "height": 521
        },
        "id": "nrI9Mct3nMph",
        "outputId": "32f2790a-7fe0-4576-93f7-5a8e954323a8"
      },
      "source": [
        "# Pass through 80% dataset into svm algorithms for training and print out the time taken.\n",
        "pre = time()\n",
        "knn_classifier.fit(x_train, y_train)\n",
        "dc_score = knn_classifier.score(x_test,y_test)\n",
        "print(f'Model training score: {dc_score} ')\n",
        "post = time()\n",
        "nb_train_time = round(float(post - pre), 3)\n",
        "print(f'Training took {nb_train_time} seconds')\n",
        "# Prediction happen and using the 20% test data.\n",
        "y_pred = knn_classifier.predict(x_test)\n",
        "post = time()\n",
        "nb_predict_time = round(float(post - pre), 3)\n",
        "print(f'Prediction took {nb_predict_time} seconds')\n",
        "\n",
        "\n",
        "nb_acc = metrics.accuracy_score(y_test, y_pred)\n",
        "nb_prec = metrics.precision_score(y_test, y_pred)\n",
        "report = classification_report(y_test, y_pred)\n",
        "metrics.plot_roc_curve(knn_classifier, x_test, y_test)  \n",
        "plt.show()\n",
        "print(f'Accuracy: {nb_acc:.2f} ({nb_acc * 100:.2f}%)\\nPrecision: {nb_prec:.2f} ({nb_prec * 100:.2f}%)')\n",
        "print(report)"
      ],
      "execution_count": null,
      "outputs": [
        {
          "output_type": "stream",
          "text": [
            "Model training score: 0.7875 \n",
            "Training took 0.004 seconds\n",
            "Prediction took 0.008 seconds\n"
          ],
          "name": "stdout"
        },
        {
          "output_type": "display_data",
          "data": {
            "image/png": "[encoded data removed]",
            "text/plain": [
              "<Figure size 432x288 with 1 Axes>"
            ]
          },
          "metadata": {
            "tags": [],
            "needs_background": "light"
          }
        },
        {
          "output_type": "stream",
          "text": [
            "Accuracy: 0.79 (78.75%)\n",
            "Precision: 0.08 (7.69%)\n",
            "              precision    recall  f1-score   support\n",
            "\n",
            "           0       0.93      0.84      0.88        74\n",
            "           1       0.08      0.17      0.11         6\n",
            "\n",
            "    accuracy                           0.79        80\n",
            "   macro avg       0.50      0.50      0.49        80\n",
            "weighted avg       0.86      0.79      0.82        80\n",
            "\n"
          ],
          "name": "stdout"
        }
      ]
    },
    {
      "cell_type": "code",
      "metadata": {
        "colab": {
          "base_uri": "https://localhost:8080/",
          "height": 521
        },
        "id": "kePa0gQQwHQU",
        "outputId": "1ae1a10f-6e81-4757-bff3-625dff1beada"
      },
      "source": [
        "# Pass through 80% dataset into svm algorithms for training and print out the time taken.\n",
        "pre = time()\n",
        "ram_dt_classifier.fit(x_train, y_train)\n",
        "dc_score = ram_dt_classifier.score(x_test,y_test)\n",
        "print(f'Model training score: {dc_score} ')\n",
        "post = time()\n",
        "nb_train_time = round(float(post - pre), 3)\n",
        "print(f'Training took {nb_train_time} seconds')\n",
        "# Prediction happen and using the 20% test data.\n",
        "y_pred = ram_dt_classifier.predict(x_test)\n",
        "post = time()\n",
        "nb_predict_time = round(float(post - pre), 3)\n",
        "print(f'Prediction took {nb_predict_time} seconds')\n",
        "\n",
        "\n",
        "nb_acc = metrics.accuracy_score(y_test, y_pred)\n",
        "nb_prec = metrics.precision_score(y_test, y_pred)\n",
        "report = classification_report(y_test, y_pred)\n",
        "metrics.plot_roc_curve(ram_dt_classifier, x_test, y_test)  \n",
        "plt.show()\n",
        "print(f'Accuracy: {nb_acc:.2f} ({nb_acc * 100:.2f}%)\\nPrecision: {nb_prec:.2f} ({nb_prec * 100:.2f}%)')\n",
        "print(report)"
      ],
      "execution_count": null,
      "outputs": [
        {
          "output_type": "stream",
          "text": [
            "Model training score: 0.8375 \n",
            "Training took 0.149 seconds\n",
            "Prediction took 0.161 seconds\n"
          ],
          "name": "stdout"
        },
        {
          "output_type": "display_data",
          "data": {
            "image/png": "[encoded data removed]",
            "text/plain": [
              "<Figure size 432x288 with 1 Axes>"
            ]
          },
          "metadata": {
            "tags": [],
            "needs_background": "light"
          }
        },
        {
          "output_type": "stream",
          "text": [
            "Accuracy: 0.84 (83.75%)\n",
            "Precision: 0.00 (0.00%)\n",
            "              precision    recall  f1-score   support\n",
            "\n",
            "           0       0.92      0.91      0.91        74\n",
            "           1       0.00      0.00      0.00         6\n",
            "\n",
            "    accuracy                           0.84        80\n",
            "   macro avg       0.46      0.45      0.46        80\n",
            "weighted avg       0.85      0.84      0.84        80\n",
            "\n"
          ],
          "name": "stdout"
        }
      ]
    },
    {
      "cell_type": "code",
      "metadata": {
        "colab": {
          "base_uri": "https://localhost:8080/",
          "height": 576
        },
        "id": "maedNEbCwaHp",
        "outputId": "2675dbcf-654b-4316-88da-32b4758127e1"
      },
      "source": [
        "# Pass through 80% dataset into svm algorithms for training and print out the time taken.\n",
        "pre = time()\n",
        "svc_classifier.fit(x_train, y_train)\n",
        "dc_score = svc_classifier.score(x_test,y_test)\n",
        "print(f'Model training score: {dc_score} ')\n",
        "post = time()\n",
        "nb_train_time = round(float(post - pre), 3)\n",
        "print(f'Training took {nb_train_time} seconds')\n",
        "# Prediction happen and using the 20% test data.\n",
        "y_pred = svc_classifier.predict(x_test)\n",
        "post = time()\n",
        "nb_predict_time = round(float(post - pre), 3)\n",
        "print(f'Prediction took {nb_predict_time} seconds')\n",
        "\n",
        "\n",
        "nb_acc = metrics.accuracy_score(y_test, y_pred)\n",
        "nb_prec = metrics.precision_score(y_test, y_pred, zero_division=0)\n",
        "report = classification_report(y_test, y_pred)\n",
        "metrics.plot_roc_curve(svc_classifier, x_test, y_test)  \n",
        "plt.show()\n",
        "print(f'Accuracy: {nb_acc:.2f} ({nb_acc * 100:.2f}%)\\nPrecision: {nb_prec:.2f} ({nb_prec * 100:.2f}%)')\n",
        "print(report)"
      ],
      "execution_count": null,
      "outputs": [
        {
          "output_type": "stream",
          "text": [
            "Model training score: 0.925 \n",
            "Training took 0.005 seconds\n",
            "Prediction took 0.006 seconds\n"
          ],
          "name": "stdout"
        },
        {
          "output_type": "stream",
          "text": [
            "/usr/local/lib/python3.7/dist-packages/sklearn/metrics/_classification.py:1272: UndefinedMetricWarning: Precision and F-score are ill-defined and being set to 0.0 in labels with no predicted samples. Use `zero_division` parameter to control this behavior.\n",
            "  _warn_prf(average, modifier, msg_start, len(result))\n"
          ],
          "name": "stderr"
        },
        {
          "output_type": "display_data",
          "data": {
            "image/png": "[encoded data removed]",
            "text/plain": [
              "<Figure size 432x288 with 1 Axes>"
            ]
          },
          "metadata": {
            "tags": [],
            "needs_background": "light"
          }
        },
        {
          "output_type": "stream",
          "text": [
            "Accuracy: 0.93 (92.50%)\n",
            "Precision: 0.00 (0.00%)\n",
            "              precision    recall  f1-score   support\n",
            "\n",
            "           0       0.93      1.00      0.96        74\n",
            "           1       0.00      0.00      0.00         6\n",
            "\n",
            "    accuracy                           0.93        80\n",
            "   macro avg       0.46      0.50      0.48        80\n",
            "weighted avg       0.86      0.93      0.89        80\n",
            "\n"
          ],
          "name": "stdout"
        }
      ]
    },
    {
      "cell_type": "code",
      "metadata": {
        "colab": {
          "base_uri": "https://localhost:8080/",
          "height": 521
        },
        "id": "x-RI8uFJy98Z",
        "outputId": "3818e75b-f439-41ad-f49c-7a5efc73ee40"
      },
      "source": [
        "# Pass through 80% dataset into svm algorithms for training and print out the time taken.\n",
        "pre = time()\n",
        "dt_classifier.fit(x_train, y_train)\n",
        "dc_score = dt_classifier.score(x_test,y_test)\n",
        "print(f'Model training score: {dc_score} ')\n",
        "post = time()\n",
        "nb_train_time = round(float(post - pre), 3)\n",
        "print(f'Training took {nb_train_time} seconds')\n",
        "# Prediction happen and using the 20% test data.\n",
        "y_pred = dt_classifier.predict(x_test)\n",
        "post = time()\n",
        "nb_predict_time = round(float(post - pre), 3)\n",
        "print(f'Prediction took {nb_predict_time} seconds')\n",
        "\n",
        "\n",
        "nb_acc = metrics.accuracy_score(y_test, y_pred)\n",
        "nb_prec = metrics.precision_score(y_test, y_pred)\n",
        "report = classification_report(y_test, y_pred)\n",
        "metrics.plot_roc_curve(dt_classifier, x_test, y_test)  \n",
        "plt.show()\n",
        "print(f'Accuracy: {nb_acc:.2f} ({nb_acc * 100:.2f}%)\\nPrecision: {nb_prec:.2f} ({nb_prec * 100:.2f}%)')\n",
        "print(report)"
      ],
      "execution_count": null,
      "outputs": [
        {
          "output_type": "stream",
          "text": [
            "Model training score: 0.8 \n",
            "Training took 0.003 seconds\n",
            "Prediction took 0.003 seconds\n"
          ],
          "name": "stdout"
        },
        {
          "output_type": "display_data",
          "data": {
            "image/png": "[encoded data removed]",
            "text/plain": [
              "<Figure size 432x288 with 1 Axes>"
            ]
          },
          "metadata": {
            "tags": [],
            "needs_background": "light"
          }
        },
        {
          "output_type": "stream",
          "text": [
            "Accuracy: 0.80 (80.00%)\n",
            "Precision: 0.00 (0.00%)\n",
            "              precision    recall  f1-score   support\n",
            "\n",
            "           0       0.91      0.86      0.89        74\n",
            "           1       0.00      0.00      0.00         6\n",
            "\n",
            "    accuracy                           0.80        80\n",
            "   macro avg       0.46      0.43      0.44        80\n",
            "weighted avg       0.85      0.80      0.82        80\n",
            "\n"
          ],
          "name": "stdout"
        }
      ]
    },
    {
      "cell_type": "markdown",
      "metadata": {
        "id": "aZ-1nEx7qhtx"
      },
      "source": [
        ""
      ]
    },
    {
      "cell_type": "code",
      "metadata": {
        "colab": {
          "base_uri": "https://localhost:8080/",
          "height": 610
        },
        "id": "4rL9RDVKzEG1",
        "outputId": "68f075f7-6371-400a-8f77-6853a988f933"
      },
      "source": [
        "# Pass through 80% dataset into svm algorithms for training and print out the time taken.\n",
        "pre = time()\n",
        "gnb_classifier.fit(x_train, y_train)\n",
        "dc_score = gnb_classifier.score(x_test,y_test)\n",
        "print(f'Model training score: {dc_score} ')\n",
        "post = time()\n",
        "nb_train_time = round(float(post - pre), 3)\n",
        "print(f'Training took {nb_train_time} seconds')\n",
        "# Prediction happen and using the 20% test data.\n",
        "y_pred = gnb_classifier.predict(x_test)\n",
        "post = time()\n",
        "nb_predict_time = round(float(post - pre), 3)\n",
        "print(f'Prediction took {nb_predict_time} seconds')\n",
        "\n",
        "\n",
        "nb_acc = metrics.accuracy_score(y_test, y_pred)\n",
        "nb_prec = metrics.precision_score(y_test, y_pred)\n",
        "report = classification_report(y_test, y_pred)\n",
        "metrics.plot_roc_curve(gnb_classifier, x_test, y_test)  \n",
        "plt.show()\n",
        "print(f'Accuracy: {nb_acc:.2f} ({nb_acc * 100:.2f}%)\\nPrecision: {nb_prec:.2f} ({nb_prec * 100:.2f}%)')\n",
        "print(report)"
      ],
      "execution_count": null,
      "outputs": [
        {
          "output_type": "stream",
          "text": [
            "Model training score: 0.925 \n",
            "Training took 0.003 seconds\n",
            "Prediction took 0.005 seconds\n"
          ],
          "name": "stdout"
        },
        {
          "output_type": "stream",
          "text": [
            "/usr/local/lib/python3.7/dist-packages/sklearn/metrics/_classification.py:1272: UndefinedMetricWarning: Precision is ill-defined and being set to 0.0 due to no predicted samples. Use `zero_division` parameter to control this behavior.\n",
            "  _warn_prf(average, modifier, msg_start, len(result))\n",
            "/usr/local/lib/python3.7/dist-packages/sklearn/metrics/_classification.py:1272: UndefinedMetricWarning: Precision and F-score are ill-defined and being set to 0.0 in labels with no predicted samples. Use `zero_division` parameter to control this behavior.\n",
            "  _warn_prf(average, modifier, msg_start, len(result))\n"
          ],
          "name": "stderr"
        },
        {
          "output_type": "display_data",
          "data": {
            "image/png": "[encoded data removed]",
            "text/plain": [
              "<Figure size 432x288 with 1 Axes>"
            ]
          },
          "metadata": {
            "tags": [],
            "needs_background": "light"
          }
        },
        {
          "output_type": "stream",
          "text": [
            "Accuracy: 0.93 (92.50%)\n",
            "Precision: 0.00 (0.00%)\n",
            "              precision    recall  f1-score   support\n",
            "\n",
            "           0       0.93      1.00      0.96        74\n",
            "           1       0.00      0.00      0.00         6\n",
            "\n",
            "    accuracy                           0.93        80\n",
            "   macro avg       0.46      0.50      0.48        80\n",
            "weighted avg       0.86      0.93      0.89        80\n",
            "\n"
          ],
          "name": "stdout"
        }
      ]
    }
  ]
}